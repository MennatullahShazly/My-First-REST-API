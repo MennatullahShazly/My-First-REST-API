{
 "cells": [
  {
   "cell_type": "code",
   "execution_count": 1,
   "id": "18c3dc0a",
   "metadata": {},
   "outputs": [],
   "source": [
    "from flask import Flask , request "
   ]
  },
  {
   "cell_type": "code",
   "execution_count": 2,
   "id": "bd927421",
   "metadata": {},
   "outputs": [],
   "source": [
    "app = Flask(__name__)"
   ]
  },
  {
   "cell_type": "code",
   "execution_count": 3,
   "id": "e8bff881",
   "metadata": {},
   "outputs": [],
   "source": [
    "#app.run()"
   ]
  },
  {
   "cell_type": "code",
   "execution_count": 4,
   "id": "6e8fba7c",
   "metadata": {},
   "outputs": [
    {
     "data": {
      "text/plain": [
       "<Flask '__main__'>"
      ]
     },
     "execution_count": 4,
     "metadata": {},
     "output_type": "execute_result"
    }
   ],
   "source": [
    "app"
   ]
  },
  {
   "cell_type": "code",
   "execution_count": 5,
   "id": "da0f72c4",
   "metadata": {},
   "outputs": [],
   "source": [
    "stores = [\n",
    "    {\n",
    "        \"name\": \"My Store\",\n",
    "        \"items\": [\n",
    "            {\n",
    "                \"name\": \"chair\",\n",
    "                \"Price\": 15.99\n",
    "            }\n",
    "        ]\n",
    "    }\n",
    "]\n",
    "\n"
   ]
  },
  {
   "cell_type": "code",
   "execution_count": 6,
   "id": "478788dd",
   "metadata": {},
   "outputs": [],
   "source": [
    "#@app.get(\"/store\")\n",
    "@app.route(\"/store\")\n",
    "def get_store():\n",
    "    return { \"stores\" : stores}\n"
   ]
  },
  {
   "cell_type": "code",
   "execution_count": 7,
   "id": "85932f5e",
   "metadata": {},
   "outputs": [
    {
     "data": {
      "text/plain": [
       "{'stores': [{'name': 'My Store',\n",
       "   'items': [{'name': 'chair', 'Price': 15.99}]}]}"
      ]
     },
     "execution_count": 7,
     "metadata": {},
     "output_type": "execute_result"
    }
   ],
   "source": [
    "get_store()"
   ]
  },
  {
   "cell_type": "code",
   "execution_count": 8,
   "id": "b58fb560",
   "metadata": {},
   "outputs": [],
   "source": [
    "#app.run()"
   ]
  },
  {
   "cell_type": "code",
   "execution_count": null,
   "id": "53031737",
   "metadata": {},
   "outputs": [],
   "source": []
  },
  {
   "cell_type": "code",
   "execution_count": null,
   "id": "2d12a904",
   "metadata": {},
   "outputs": [],
   "source": []
  },
  {
   "cell_type": "code",
   "execution_count": 9,
   "id": "03dd53e9",
   "metadata": {},
   "outputs": [],
   "source": [
    "# @app.route(\"/store\", methods=[\"POST\"])\n",
    "# def create_store():\n",
    "#     pass"
   ]
  },
  {
   "cell_type": "code",
   "execution_count": 10,
   "id": "5d5dc3a3",
   "metadata": {},
   "outputs": [],
   "source": [
    "@app.route(\"/store\", methods=[\"POST\"])\n",
    "def create_store():\n",
    "    request_data = request.get_json()\n",
    "    new_stores = {\"name\" : request_data[\"name\"] , \"items\" : []}\n",
    "    stores.append(new_stores)\n",
    "    return new_stores , 201"
   ]
  },
  {
   "cell_type": "code",
   "execution_count": 11,
   "id": "05ebad46",
   "metadata": {},
   "outputs": [],
   "source": [
    "@app.route(\"/store/<string:name>/item\", methods=[\"POST\"])\n",
    "def create_item(name):\n",
    "    request_data = request.get_json()\n",
    "    for store in stores:\n",
    "        if store in [\"name\"] == name:\n",
    "            new_item = {\"name\": request_data[\"name\"] , \"price\" :  request_data[\"price\"]}\n",
    "            store[\"items\"].apped(new_item)\n",
    "            return new_item , 201\n",
    "    \n"
   ]
  },
  {
   "cell_type": "code",
   "execution_count": 12,
   "id": "0eb2c0db",
   "metadata": {},
   "outputs": [
    {
     "data": {
      "text/plain": [
       "<function __main__.create_store()>"
      ]
     },
     "execution_count": 12,
     "metadata": {},
     "output_type": "execute_result"
    }
   ],
   "source": [
    "create_store"
   ]
  },
  {
   "cell_type": "code",
   "execution_count": null,
   "id": "30943009",
   "metadata": {},
   "outputs": [],
   "source": []
  },
  {
   "cell_type": "code",
   "execution_count": null,
   "id": "672f4bbc",
   "metadata": {},
   "outputs": [
    {
     "name": "stdout",
     "output_type": "stream",
     "text": [
      " * Serving Flask app \"__main__\" (lazy loading)\n",
      " * Environment: production\n",
      "\u001b[31m   WARNING: This is a development server. Do not use it in a production deployment.\u001b[0m\n",
      "\u001b[2m   Use a production WSGI server instead.\u001b[0m\n",
      " * Debug mode: off\n"
     ]
    },
    {
     "name": "stderr",
     "output_type": "stream",
     "text": [
      " * Running on http://127.0.0.1:5000/ (Press CTRL+C to quit)\n",
      "127.0.0.1 - - [24/Jan/2024 14:45:50] \"GET /store HTTP/1.1\" 200 -\n",
      "127.0.0.1 - - [24/Jan/2024 14:46:00] \"GET /store HTTP/1.1\" 200 -\n",
      "[2024-01-24 14:46:04,335] ERROR in app: Exception on /store/My store/item [POST]\n",
      "Traceback (most recent call last):\n",
      "  File \"C:\\Users\\malshazly\\Anaconda3\\lib\\site-packages\\flask\\app.py\", line 2447, in wsgi_app\n",
      "    response = self.full_dispatch_request()\n",
      "  File \"C:\\Users\\malshazly\\Anaconda3\\lib\\site-packages\\flask\\app.py\", line 1953, in full_dispatch_request\n",
      "    return self.finalize_request(rv)\n",
      "  File \"C:\\Users\\malshazly\\Anaconda3\\lib\\site-packages\\flask\\app.py\", line 1968, in finalize_request\n",
      "    response = self.make_response(rv)\n",
      "  File \"C:\\Users\\malshazly\\Anaconda3\\lib\\site-packages\\flask\\app.py\", line 2097, in make_response\n",
      "    raise TypeError(\n",
      "TypeError: The view function did not return a valid response. The function either returned None or ended without a return statement.\n",
      "127.0.0.1 - - [24/Jan/2024 14:46:04] \"POST /store/My%20store/item HTTP/1.1\" 500 -\n",
      "[2024-01-24 14:46:40,826] ERROR in app: Exception on /store/My Store/item [POST]\n",
      "Traceback (most recent call last):\n",
      "  File \"C:\\Users\\malshazly\\Anaconda3\\lib\\site-packages\\flask\\app.py\", line 2447, in wsgi_app\n",
      "    response = self.full_dispatch_request()\n",
      "  File \"C:\\Users\\malshazly\\Anaconda3\\lib\\site-packages\\flask\\app.py\", line 1953, in full_dispatch_request\n",
      "    return self.finalize_request(rv)\n",
      "  File \"C:\\Users\\malshazly\\Anaconda3\\lib\\site-packages\\flask\\app.py\", line 1968, in finalize_request\n",
      "    response = self.make_response(rv)\n",
      "  File \"C:\\Users\\malshazly\\Anaconda3\\lib\\site-packages\\flask\\app.py\", line 2097, in make_response\n",
      "    raise TypeError(\n",
      "TypeError: The view function did not return a valid response. The function either returned None or ended without a return statement.\n",
      "127.0.0.1 - - [24/Jan/2024 14:46:40] \"POST /store/My%20Store/item HTTP/1.1\" 500 -\n",
      "127.0.0.1 - - [24/Jan/2024 14:46:45] \"POST /store/My%20Store HTTP/1.1\" 404 -\n",
      "127.0.0.1 - - [24/Jan/2024 14:46:56] \"GET /store/My%20Store HTTP/1.1\" 404 -\n",
      "127.0.0.1 - - [24/Jan/2024 14:47:09] \"POST /store HTTP/1.1\" 201 -\n",
      "127.0.0.1 - - [24/Jan/2024 14:47:20] \"GET /store HTTP/1.1\" 200 -\n",
      "127.0.0.1 - - [24/Jan/2024 14:47:36] \"GET /store/Menna%20Store HTTP/1.1\" 404 -\n",
      "127.0.0.1 - - [24/Jan/2024 14:47:39] \"GET /store/Menna%20Store HTTP/1.1\" 404 -\n",
      "127.0.0.1 - - [24/Jan/2024 14:47:49] \"POST /store HTTP/1.1\" 201 -\n",
      "127.0.0.1 - - [24/Jan/2024 14:47:57] \"GET /store HTTP/1.1\" 200 -\n"
     ]
    }
   ],
   "source": [
    "app.run()"
   ]
  },
  {
   "cell_type": "code",
   "execution_count": null,
   "id": "7df258a7",
   "metadata": {},
   "outputs": [],
   "source": []
  }
 ],
 "metadata": {
  "kernelspec": {
   "display_name": "Python 3 (ipykernel)",
   "language": "python",
   "name": "python3"
  },
  "language_info": {
   "codemirror_mode": {
    "name": "ipython",
    "version": 3
   },
   "file_extension": ".py",
   "mimetype": "text/x-python",
   "name": "python",
   "nbconvert_exporter": "python",
   "pygments_lexer": "ipython3",
   "version": "3.9.12"
  }
 },
 "nbformat": 4,
 "nbformat_minor": 5
}
